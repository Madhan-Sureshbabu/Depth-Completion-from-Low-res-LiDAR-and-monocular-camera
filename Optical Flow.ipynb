{
 "cells": [
  {
   "cell_type": "code",
   "execution_count": 1,
   "metadata": {},
   "outputs": [],
   "source": [
    "from data_read import *\n",
    "from odometry_functions import *\n",
    "import matplotlib.pyplot as plt\n",
    "import numpy as np\n",
    "import cv2\n",
    "from scipy.optimize import least_squares\n",
    "import os"
   ]
  },
  {
   "cell_type": "code",
   "execution_count": 2,
   "metadata": {},
   "outputs": [],
   "source": [
    "feature_params = dict( maxCorners = 100,\n",
    "                       qualityLevel = 0.2,\n",
    "                       minDistance = 7,\n",
    "                       blockSize = 7,\n",
    "                       useHarrisDetector=False)\n",
    "lk_params = dict( winSize  = (15,15),\n",
    "                  maxLevel = 2,\n",
    "                  criteria = (cv2.TERM_CRITERIA_EPS | cv2.TERM_CRITERIA_COUNT, 10, 0.03))"
   ]
  },
  {
   "cell_type": "code",
   "execution_count": 3,
   "metadata": {},
   "outputs": [],
   "source": [
    "data_loader=Data_load(input_line=64, frames=5)"
   ]
  },
  {
   "cell_type": "code",
   "execution_count": 4,
   "metadata": {},
   "outputs": [
    {
     "name": "stdout",
     "output_type": "stream",
     "text": [
      "[84917]\n"
     ]
    }
   ],
   "source": [
    "lidar_frames,gt_frames,img_frames,index_list=data_loader.read_frames(batch=1, if_removal=False)\n",
    "print(index_list)"
   ]
  },
  {
   "cell_type": "code",
   "execution_count": 5,
   "metadata": {},
   "outputs": [
    {
     "name": "stdout",
     "output_type": "stream",
     "text": [
      "[[[ 736.  180.]]\n",
      "\n",
      " [[ 650.  243.]]\n",
      "\n",
      " [[1077.  308.]]\n",
      "\n",
      " [[ 755.  244.]]]\n"
     ]
    }
   ],
   "source": [
    "features = find_keypoints(img_frames[0,:,:,:],lidar_frames[0,:,:,0],feature_params)\n",
    "next_features, status, error = track_features(img_frames[0,:,:,:],features,img_frames[1,:,:,:],lk_params)\n",
    "print(features)"
   ]
  },
  {
   "cell_type": "code",
   "execution_count": 6,
   "metadata": {},
   "outputs": [],
   "source": [
    "features = features[status==1]\n",
    "next_features = next_features[status==1]"
   ]
  },
  {
   "cell_type": "code",
   "execution_count": 7,
   "metadata": {},
   "outputs": [
    {
     "name": "stdout",
     "output_type": "stream",
     "text": [
      "[[ 1.3174588  -1.94119225 29.63671875  1.        ]\n",
      " [-0.69915641  0.06168356 13.82421875  1.        ]\n",
      " [ 2.45017307  0.44579587  5.81640625  1.        ]\n",
      " [ 0.8904539   0.07581639 13.60546875  1.        ]]\n",
      "4\n",
      "[[ 750  181    1]\n",
      " [ 644  237    1]\n",
      " [1071  283    1]\n",
      " [ 792  261    1]]\n"
     ]
    }
   ],
   "source": [
    "scene=data_loader.img_path[index_list[0]].split('/')[5].split('_')[:3]\n",
    "scene_date = scene[0]\n",
    "camera_id = data_loader.img_path[index_list[0]].split('/')[-3]\n",
    "for i in range(1,len(scene)) : \n",
    "    scene_date += '_' + scene[i]\n",
    "K = get_calib_file(scene_date,camera_id) # eg: 2011_09_26, image_03\n",
    "# print(K)\n",
    "pts_3d_1 = compute_3D_points(lidar_frames[0,:,:,:],features,K)\n",
    "pts_2d_2 = []\n",
    "for i in range(len(features)):\n",
    "    x = int(next_features[i,0])\n",
    "    y = int(next_features[i,1])\n",
    "    pts_2d_2.append([x,y,1])\n",
    "pts_2d_2 = np.asarray(pts_2d_2)\n",
    "print(pts_3d_1)\n",
    "print(len(pts_2d_2))\n",
    "print(pts_2d_2)\n",
    "# print(features)\n",
    "P = np.hstack((K,np.zeros((3,1))))\n"
   ]
  },
  {
   "cell_type": "code",
   "execution_count": 8,
   "metadata": {},
   "outputs": [
    {
     "name": "stdout",
     "output_type": "stream",
     "text": [
      "The maximum number of function evaluations is exceeded.\n",
      "Function evaluations 4200, initial cost 3.5842e+06, final cost 1.5512e+06, first-order optimality 1.51e+06.\n"
     ]
    }
   ],
   "source": [
    "opt = least_squares(func,np.zeros(6),method='lm',verbose=1,args=(pts_3d_1,pts_2d_2,P))"
   ]
  },
  {
   "cell_type": "code",
   "execution_count": 9,
   "metadata": {},
   "outputs": [
    {
     "name": "stdout",
     "output_type": "stream",
     "text": [
      "[[ 0.99960787  0.02795811 -0.00156348 -0.1526515 ]\n",
      " [-0.02798175  0.99944631 -0.01800286  0.28032621]\n",
      " [ 0.00105929  0.01803955  0.99983671 -0.38164533]\n",
      " [ 0.          0.          0.          1.        ]]\n"
     ]
    }
   ],
   "source": [
    "R = genEulerZXZMatrix(opt.x[0],opt.x[1],opt.x[2])\n",
    "t = np.asarray([[opt.x[3]],[opt.x[4]],[opt.x[5]]])\n",
    "T = np.hstack((R,t))\n",
    "T = np.vstack((T,np.asarray([[0,0,0,1]])))\n",
    "print(T)"
   ]
  },
  {
   "cell_type": "code",
   "execution_count": null,
   "metadata": {},
   "outputs": [],
   "source": []
  }
 ],
 "metadata": {
  "kernelspec": {
   "display_name": "Python 3",
   "language": "python",
   "name": "python3"
  },
  "language_info": {
   "codemirror_mode": {
    "name": "ipython",
    "version": 3
   },
   "file_extension": ".py",
   "mimetype": "text/x-python",
   "name": "python",
   "nbconvert_exporter": "python",
   "pygments_lexer": "ipython3",
   "version": "3.6.6"
  }
 },
 "nbformat": 4,
 "nbformat_minor": 2
}
