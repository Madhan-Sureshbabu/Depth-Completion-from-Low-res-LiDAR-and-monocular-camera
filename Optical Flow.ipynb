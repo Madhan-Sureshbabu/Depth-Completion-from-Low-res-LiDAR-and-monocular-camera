{
 "cells": [
  {
   "cell_type": "code",
   "execution_count": 3,
   "metadata": {},
   "outputs": [],
   "source": [
    "from data_read import *\n",
    "from odometry_functions import *\n",
    "import matplotlib.pyplot as plt\n",
    "import numpy as np\n",
    "import cv2\n",
    "from scipy.optimize import least_squares"
   ]
  },
  {
   "cell_type": "code",
   "execution_count": null,
   "metadata": {},
   "outputs": [],
   "source": [
    "f = \n",
    "cx = \n",
    "cy  = \n",
    "feature_params = dict( maxCorners = 100,\n",
    "                       qualityLevel = 0.4,\n",
    "                       minDistance = 7,\n",
    "                       blockSize = 7,\n",
    "                       useHarrisDetector=False)\n",
    "lk_params = dict( winSize  = (15,15),\n",
    "                  maxLevel = 2,\n",
    "                  criteria = (cv2.TERM_CRITERIA_EPS | cv2.TERM_CRITERIA_COUNT, 10, 0.03))"
   ]
  },
  {
   "cell_type": "code",
   "execution_count": 4,
   "metadata": {},
   "outputs": [],
   "source": [
    "data_loader=Data_load(input_line=64, frames=5)"
   ]
  },
  {
   "cell_type": "code",
   "execution_count": 5,
   "metadata": {},
   "outputs": [],
   "source": [
    "lidar_frames,gt_frames,img_frames=data_loader.read_frames(batch=1, if_removal=False)"
   ]
  },
  {
   "cell_type": "code",
   "execution_count": 8,
   "metadata": {},
   "outputs": [],
   "source": [
    "features = find_keypoints(img_frames[0,:,:,:],lidar_frames[0,:,:,0],feature_params)\n",
    "next_features, status, error = track_features(img_frames[0,:,:,:],features,img_frames[1,:,:,:],lk_params)"
   ]
  },
  {
   "cell_type": "code",
   "execution_count": 11,
   "metadata": {},
   "outputs": [],
   "source": [
    "features = features[status==1]\n",
    "next_features = next_features[status==1]"
   ]
  },
  {
   "cell_type": "code",
   "execution_count": 10,
   "metadata": {},
   "outputs": [
    {
     "data": {
      "text/plain": [
       "array([[788.3947 , 236.33604],\n",
       "       [248.28384, 167.99547],\n",
       "       [687.65356, 212.00035],\n",
       "       [258.7893 , 193.64713],\n",
       "       [241.18109, 134.8558 ],\n",
       "       [295.3255 , 180.9068 ],\n",
       "       [287.70145, 176.74435],\n",
       "       [736.1919 , 221.43701]], dtype=float32)"
      ]
     },
     "execution_count": 10,
     "metadata": {},
     "output_type": "execute_result"
    }
   ],
   "source": [
    "compute_3D_points(lidar_frames[0,:,:,:],features,f,cx,cy)"
   ]
  },
  {
   "cell_type": "code",
   "execution_count": null,
   "metadata": {},
   "outputs": [],
   "source": []
  }
 ],
 "metadata": {
  "kernelspec": {
   "display_name": "Python 3",
   "language": "python",
   "name": "python3"
  },
  "language_info": {
   "codemirror_mode": {
    "name": "ipython",
    "version": 3
   },
   "file_extension": ".py",
   "mimetype": "text/x-python",
   "name": "python",
   "nbconvert_exporter": "python",
   "pygments_lexer": "ipython3",
   "version": "3.6.6"
  }
 },
 "nbformat": 4,
 "nbformat_minor": 2
}
